{
  "cells": [
    {
      "cell_type": "markdown",
      "metadata": {
        "id": "SKTufFFzoKGi"
      },
      "source": [
        "# ** VISHAL (590014358) Class Assignment**"
      ]
    },
    {
      "cell_type": "markdown",
      "metadata": {
        "id": "yxnin-ZXoQv6"
      },
      "source": [
        "## *Question: WAP with 2 functions: 1) Takes n inputs and returns data entered by the user as a list. Values should be integer only. Use either input n, or use stop input, or use map. 2) Function that takes 1 input arguement, a list. Compute SUM, AVG, MIN, MAX and CUMULATIVE SUM. NOW USE BOTH THESE FUNCTIONS TOGETHER.*"
      ]
    },
    {
      "cell_type": "code",
      "execution_count": 10,
      "metadata": {
        "colab": {
          "base_uri": "https://localhost:8080/"
        },
        "id": "cUBxqEuLpCXa",
        "outputId": "7ccca1e4-f541-4ba8-c5dd-592d71112313"
      },
      "outputs": [
        {
          "name": "stdout",
          "output_type": "stream",
          "text": [
            "Enter Integers Separated by Space: fb rg\n",
            "Check your input again and try again.\n",
            "Enter Integers Separated by Space: 10 20 30 40 50\n",
            "List Entered: [10, 20, 30, 40, 50]\n",
            "Sum: 150\n",
            "Average: 30.0\n",
            "Minimum: 10\n",
            "Maximum: 50\n",
            "Cumulative Sum: [10, 30, 60, 100, 150]\n"
          ]
        }
      ],
      "source": [
        "def convert_to_list():\n",
        "  while True:\n",
        "    user_input = input(\"Enter Integers Separated by Space: \")\n",
        "    try:\n",
        "      mylist = list(map(int, user_input.split()))\n",
        "      print(f\"List Entered: {mylist}\")\n",
        "      break\n",
        "    except:\n",
        "      print(\"Check your input again and try again.\")\n",
        "  return mylist\n",
        "\n",
        "def list_operations(mylist):\n",
        "    return sum(mylist), sum(mylist)/len(mylist) if mylist else 0, min(mylist), max(mylist), calculate_cumulative_sum(mylist)\n",
        "\n",
        "def calculate_cumulative_sum(mylist):\n",
        "    cumulative_sum = []\n",
        "    total = 0\n",
        "    for num in mylist:\n",
        "        total += num\n",
        "        cumulative_sum.append(total)\n",
        "    return cumulative_sum\n",
        "\n",
        "def main():\n",
        "  mylist = convert_to_list()\n",
        "  a,b,c,d,e = list_operations(mylist)\n",
        "  print(f\"Sum: {a}\")\n",
        "  print(f\"Average: {b}\")\n",
        "  print(f\"Minimum: {c}\")\n",
        "  print(f\"Maximum: {d}\")\n",
        "  print(f\"Cumulative Sum: {e}\")\n",
        "\n",
        "main()"
      ]
    }
  ],
  "metadata": {
    "colab": {
      "provenance": []
    },
    "kernelspec": {
      "display_name": "Python 3",
      "name": "python3"
    },
    "language_info": {
      "name": "python"
    }
  },
  "nbformat": 4,
  "nbformat_minor": 0
}
