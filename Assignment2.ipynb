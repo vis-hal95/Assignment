{
 "cells": [
  {
   "cell_type": "code",
   "execution_count": 3,
   "id": "fd85c4ec-ab84-4bf5-8082-8b9bfe69ce3f",
   "metadata": {},
   "outputs": [
    {
     "name": "stdout",
     "output_type": "stream",
     "text": [
      "Hello, VISHAL!\n",
      "Good Morning, Bob!\n"
     ]
    }
   ],
   "source": [
    "def greet(name, greeting=\"Hello\"):\n",
    "    return f\"{greeting}, {name}!\"\n",
    "print(greet(\"VISHAL\"))        # Output: Hello, VISHAL!\n",
    "print(greet(\"Bob\", \"Good Morning\"))    # Output: Good Morning, Bob!\n",
    "\n"
   ]
  },
  {
   "cell_type": "code",
   "execution_count": 4,
   "id": "0537bfa7-4dc4-444e-942d-9f9e37d964c8",
   "metadata": {},
   "outputs": [
    {
     "name": "stdout",
     "output_type": "stream",
     "text": [
      "Name: VISHAL, City: Dehradun , Age: 21\n",
      "Name: Rahul, City: Jaipur , Age: 27\n"
     ]
    }
   ],
   "source": [
    "def create_profile(name, city, age=21):\n",
    "    return f\"Name: {name}, City: {city} , Age: {age}\"\n",
    "\n",
    "print(create_profile(\"VISHAL\", city=\"Dehradun\"))  # Output: Name: VISHAL, Age: 21, City: Delhi\n",
    "print(create_profile(\"Rahul\", city=\"Jaipur\", age=27 ))  # Output: Name: Rahul, Age: 27, City: Jaipur\n"
   ]
  },
  {
   "cell_type": "code",
   "execution_count": 5,
   "id": "a85af3ca-046a-4377-8a00-3869e17c3ca4",
   "metadata": {},
   "outputs": [
    {
     "name": "stdout",
     "output_type": "stream",
     "text": [
      "Sum of numbers: (7.5, {})\n",
      "Keyword arguments: (3, {'x': 4, 'y': 5})\n"
     ]
    }
   ],
   "source": [
    "def sum_numbers(*args, **kwargs):\n",
    "    # Calculate the sum of all numeric args\n",
    "    total_sum = sum(arg for arg in args if isinstance(arg, (int, float)))\n",
    "    \n",
    "    # Create a dictionary of keyword arguments\n",
    "    kwargs_dict = {key: value for key, value in kwargs.items()}\n",
    "    \n",
    "    return total_sum, kwargs_dict\n",
    "result_sum = sum_numbers(1, 2, '3', 4.5)\n",
    "result_kwargs = sum_numbers(1, 2, x=4, y=5)\n",
    "print(\"Sum of numbers:\", result_sum)      \n",
    "\n",
    "\n",
    "\n",
    "\n",
    "\n",
    "\n",
    "print(\"Keyword arguments:\", result_kwargs) \n"
   ]
  },
  {
   "cell_type": "code",
   "execution_count": 6,
   "id": "17d50ebe-5970-45b5-8d4a-7110b8a7fc19",
   "metadata": {},
   "outputs": [
    {
     "name": "stdout",
     "output_type": "stream",
     "text": [
      "[1, 4, 9, 16, 25]\n"
     ]
    }
   ],
   "source": [
    "def square_elements(input_list):\n",
    "    # Use map with a lambda function to square each element\n",
    "    squared = list(map(lambda x: x ** 2, input_list))\n",
    "    return squared\n",
    "numbers = [1, 2, 3, 4, 5]\n",
    "squared_numbers = square_elements(numbers)\n",
    "print(squared_numbers)  \n"
   ]
  },
  {
   "cell_type": "code",
   "execution_count": 7,
   "id": "62b281e4-8b40-490b-a176-130529ece791",
   "metadata": {},
   "outputs": [
    {
     "name": "stdout",
     "output_type": "stream",
     "text": [
      "[2, 4, 6, 8, 10]\n"
     ]
    }
   ],
   "source": [
    "def filter_odd_numbers(numbers):\n",
    "    return list(filter(lambda x: x % 2 == 0, numbers))\n",
    "\n",
    "numbers = [1, 2, 3, 4, 5, 6, 7, 8, 9, 10]\n",
    "even_numbers = filter_odd_numbers(numbers)\n",
    "print(even_numbers)  \n"
   ]
  },
  {
   "cell_type": "code",
   "execution_count": 8,
   "id": "cb2112e3-6adf-434b-ae0d-99e47368b0c5",
   "metadata": {},
   "outputs": [
    {
     "name": "stdout",
     "output_type": "stream",
     "text": [
      "[1, 4, 9, 16, 25]\n"
     ]
    }
   ],
   "source": [
    "def square_numbers(numbers):\n",
    "    return [x ** 2 for x in numbers]\n",
    "\n",
    "numbers = [1, 2, 3, 4, 5]\n",
    "squared_numbers = square_numbers(numbers)\n",
    "print(squared_numbers)  \n"
   ]
  },
  {
   "cell_type": "code",
   "execution_count": 9,
   "id": "5ba29eb7-db00-4e2a-b9e3-6a353740a857",
   "metadata": {},
   "outputs": [
    {
     "name": "stdout",
     "output_type": "stream",
     "text": [
      "[2, 4, 6, 8, 10, 12, 14, 16, 18, 20, 22, 24, 26, 28]\n"
     ]
    }
   ],
   "source": [
    "even_numbers = []\n",
    "\n",
    "for x in range(1, 30):\n",
    "    if x % 2 == 0:\n",
    "        even_numbers.append(x)\n",
    "\n",
    "\n",
    "print(even_numbers)  \n"
   ]
  },
  {
   "cell_type": "code",
   "execution_count": 10,
   "id": "adda8e04-604a-467f-9be5-9107c1874036",
   "metadata": {},
   "outputs": [
    {
     "name": "stdout",
     "output_type": "stream",
     "text": [
      "Directory 'test_folder' created.\n",
      "Directory 'test_folder' deleted.\n"
     ]
    }
   ],
   "source": [
    "import os\n",
    "import time\n",
    "\n",
    "def file_operations(folder_name):\n",
    "    # Create a directory\n",
    "    os.makedirs(folder_name)\n",
    "    print(f\"Directory '{folder_name}' created.\")\n",
    "\n",
    "    # Pause for 3 seconds\n",
    "    time.sleep(3)\n",
    "\n",
    "    # Delete the directory\n",
    "    os.rmdir(folder_name)\n",
    "    print(f\"Directory '{folder_name}' deleted.\")\n",
    "file_operations(\"test_folder\")\n"
   ]
  },
  {
   "cell_type": "code",
   "execution_count": 11,
   "id": "1d6b6cf5-630a-4fc8-a6ae-f17f678f312e",
   "metadata": {},
   "outputs": [
    {
     "name": "stdout",
     "output_type": "stream",
     "text": [
      "Paused execution...\n"
     ]
    }
   ],
   "source": [
    "from time import sleep as pause\n",
    "\n",
    "def pause_execution(seconds):\n",
    "    \"\"\"Pauses execution for a specified number of seconds.\"\"\"\n",
    "    pause(seconds)\n",
    "    print(\"Paused execution...\")\n",
    "\n",
    "# Call the function to pause for 2 seconds\n",
    "pause_execution(2)\n"
   ]
  },
  {
   "cell_type": "code",
   "execution_count": 12,
   "id": "15e32c2f-b0e3-4c8d-9aae-c76c60b288fc",
   "metadata": {},
   "outputs": [
    {
     "name": "stdout",
     "output_type": "stream",
     "text": [
      "[1, 2, 3, 4, 5, 6, 7, 8]\n"
     ]
    }
   ],
   "source": [
    "def flatten_list(nested_list):\n",
    "    \"\"\"Flatten a nested list of any depth.\"\"\"\n",
    "    flattened = []\n",
    "    \n",
    "    def flatten(item):\n",
    "        if isinstance(item, list):\n",
    "            for sub_item in item:\n",
    "                flatten(sub_item)\n",
    "        else:\n",
    "            flattened.append(item)\n",
    "    \n",
    "    flatten(nested_list)\n",
    "    return flattened\n",
    "nested = [1, [2, [3, 4], 5], 6, [7, 8]]\n",
    "flat = flatten_list(nested)\n",
    "print(flat)  \n"
   ]
  },
  {
   "cell_type": "code",
   "execution_count": null,
   "id": "5d24b16f-5278-4471-ad7f-dcd46ab8a8fb",
   "metadata": {},
   "outputs": [],
   "source": []
  },
  {
   "cell_type": "code",
   "execution_count": null,
   "id": "f32f8d09-bf5a-47fe-81bf-7af6be3be7e3",
   "metadata": {},
   "outputs": [],
   "source": []
  }
 ],
 "metadata": {
  "kernelspec": {
   "display_name": "tkinter_venv",
   "language": "python",
   "name": "python3"
  },
  "language_info": {
   "codemirror_mode": {
    "name": "ipython",
    "version": 3
   },
   "file_extension": ".py",
   "mimetype": "text/x-python",
   "name": "python",
   "nbconvert_exporter": "python",
   "pygments_lexer": "ipython3",
   "version": "3.13.0"
  }
 },
 "nbformat": 4,
 "nbformat_minor": 5
}
